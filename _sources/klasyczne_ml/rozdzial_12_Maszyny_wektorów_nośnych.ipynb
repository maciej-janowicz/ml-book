{
 "cells": [
  {
   "cell_type": "markdown",
   "metadata": {},
   "source": [
    "# Maszyny wektorów nośnych"
   ]
  },
  {
   "cell_type": "markdown",
   "metadata": {
    "id": "g09qwkSlms50"
   },
   "source": [
    "### Maszyny wektorów nośnych (Support Vector Machines, SVM)\n",
    "\n",
    "1. Definicja\n",
    "- Maszyny wektorów nośnych (SVM) to algorytm uczenia maszynowego używany do klasyfikacji i regresji.\n",
    "- SVM działa przez znajdowanie hiperpłaszczyzny, która najlepiej rozdziela dane na różne klasy.\n",
    "- W przypadku danych liniowo nierozdzielnych, SVM może używać funkcji jądrowych (\"kernel functions\") do przekształcenia danych do przestrzeni o większej liczby wymiarów, gdzie dane mogą być liniowo rozdzielne.\n",
    "\n",
    "2. Podstawowe koncepcje\n",
    "\n",
    "- Hiperpłaszczyzna:\n",
    "\n",
    " - W przestrzeni dwuwymiarowej, hiperpłaszczyzna jest linią.\n",
    " - W przestrzeni trójwymiarowej, hiperpłaszczyzna jest płaszczyzną.\n",
    " - W przestrzeni wielowymiarowej, hiperpłaszczyzna jest uogólnieniem powyższych pojęć.\n",
    "\n",
    "- Wektory nośne:\n",
    "\n",
    " - Są to punkty danych, które leżą najbliżej hiperpłaszczyzny i mają największy wpływ na jej położenie.\n",
    "\n",
    "- Margines:\n",
    "\n",
    " - Odległość między hiperpłaszczyzną a najbliższymi punktami danych (wektorami nośnymi).\n",
    " - SVM dąży do maksymalizacji marginesu.\n",
    "\n",
    "- Funkcje jądrowe:\n",
    "\n",
    " - Używane do przekształcenia danych do wyższej wymiarowości, gdzie dane mogą być liniowo rozdzielne.\n",
    " - Popularne funkcje jądrowe to liniowa, wielomianowa, radialna (RBF) i sigmoidalna.\n",
    "\n",
    "3. Zastosowania\n",
    "\n",
    "- Klasyfikacja obrazów: Rozpoznawanie obiektów na zdjęciach.\n",
    "- Klasyfikacja tekstu: Klasyfikacja dokumentów, analiza sentymentu.\n",
    "- Bioinformatyka: Klasyfikacja sekwencji DNA.\n",
    "- Finanse: Przewidywanie ryzyka kredytowego, klasyfikacja transakcji."
   ]
  },
  {
   "cell_type": "code",
   "execution_count": 1,
   "metadata": {
    "colab": {
     "base_uri": "https://localhost:8080/"
    },
    "executionInfo": {
     "elapsed": 5149,
     "status": "ok",
     "timestamp": 1736334840664,
     "user": {
      "displayName": "Maciej Janowicz",
      "userId": "09531894793951009605"
     },
     "user_tz": -60
    },
    "id": "XgwlXvX_mohK",
    "outputId": "63939a1d-1b0f-4e8e-edf2-65d9a748cde7"
   },
   "outputs": [
    {
     "name": "stdout",
     "output_type": "stream",
     "text": [
      "Accuracy: 1.0\n"
     ]
    }
   ],
   "source": [
    "from sklearn import datasets\n",
    "from sklearn.model_selection import train_test_split\n",
    "from sklearn.preprocessing import StandardScaler\n",
    "from sklearn.svm import SVC\n",
    "from sklearn.metrics import accuracy_score\n",
    "\n",
    "# Wczytanie przykładowego zbioru danych (iris)\n",
    "iris = datasets.load_iris()\n",
    "X = iris.data\n",
    "y = iris.target\n",
    "\n",
    "# Podział danych na zbiór treningowy i testowy\n",
    "X_train, X_test, y_train, y_test = train_test_split(X, y, test_size=0.2, random_state=42)\n",
    "\n",
    "# Standaryzacja danych\n",
    "scaler = StandardScaler()\n",
    "X_train = scaler.fit_transform(X_train)\n",
    "X_test = scaler.transform(X_test)\n",
    "\n",
    "# Utworzenie modelu SVM z jądrem RBF\n",
    "model = SVC(kernel='rbf', C=1.0, gamma='scale')\n",
    "\n",
    "# Trenowanie modelu\n",
    "model.fit(X_train, y_train)\n",
    "\n",
    "# Przewidywanie\n",
    "y_pred = model.predict(X_test)\n",
    "\n",
    "# Ocena modelu\n",
    "accuracy = accuracy_score(y_test, y_pred)\n",
    "print(f'Accuracy: {accuracy}')\n"
   ]
  },
  {
   "cell_type": "markdown",
   "metadata": {
    "id": "aO7AlOVkn7lI"
   },
   "source": [
    "Opis kodu\n",
    "\n",
    "1. Zbiór danych:\n",
    "\n",
    "- Używamy zbioru danych iris z biblioteki sklearn.datasets.\n",
    "\n",
    "2. Podział danych:\n",
    "\n",
    "- Dzielimy dane na zbiór treningowy i testowy za pomocą train_test_split.\n",
    "\n",
    "3. Standaryzacja danych:\n",
    "\n",
    "- Standaryzujemy dane za pomocą StandardScaler, co jest ważne dla SVM, ponieważ algorytm jest wrażliwy na skalę danych.\n",
    "\n",
    "4. Utworzenie modelu SVM:\n",
    "\n",
    "- Tworzymy model SVM z jądrem RBF (kernel='rbf').\n",
    " - Parametr *C* kontroluje tzw. margines, a parametr *gamma* kontroluje zakres wpływu pojedynczego punktu treningowego.\n",
    "\n",
    "5. Trenowanie modelu:\n",
    "\n",
    "- Trenujemy model na zbiorze treningowym za pomocą fit.\n",
    "\n",
    "6. Przewidywanie:\n",
    "\n",
    "- Przewidujemy etykiety dla zbioru testowego za pomocą predict.\n",
    "\n",
    "7. Ocena modelu:\n",
    "\n",
    "- Oceniamy dokładność modelu za pomocą *accuracy_score*.\n",
    "\n",
    "8. Szczegółowe informacje\n",
    "\n",
    "- Parametr C:\n",
    " - Kontroluje margines. Mniejsze wartości C powodują większy margines, ale mogą prowadzić do bardziej złożonych modeli.\n",
    "\n",
    "- Parametr gamma:\n",
    " - Kontroluje zakres wpływu pojedynczego punktu treningowego.\n",
    " - Mniejsze wartości gamma powodują, że każdy punkt treningowy ma większy zakres wpływu.\n",
    "\n",
    "- Funkcje jądrowe:\n",
    "\n",
    " - linear: Liniowa hiperpłaszczyzna.\n",
    " - poly:  Hiperpłaszczyzna wielomianowa.\n",
    " - rbf: Radialna funkcja bazowa (Gaussian).\n",
    " - sigmoid: Sigmoidalna funkcja."
   ]
  },
  {
   "cell_type": "code",
   "execution_count": 2,
   "metadata": {
    "colab": {
     "base_uri": "https://localhost:8080/"
    },
    "executionInfo": {
     "elapsed": 347,
     "status": "ok",
     "timestamp": 1736335748270,
     "user": {
      "displayName": "Maciej Janowicz",
      "userId": "09531894793951009605"
     },
     "user_tz": -60
    },
    "id": "-EC8nU81rLwS",
    "outputId": "c937c631-3c93-4f4e-faab-e49d5458cd40"
   },
   "outputs": [
    {
     "name": "stdout",
     "output_type": "stream",
     "text": [
      "Accuracy: 1.0\n",
      "\n",
      "Classification Report:\n",
      "               precision    recall  f1-score   support\n",
      "\n",
      "           0       1.00      1.00      1.00        17\n",
      "           1       1.00      1.00      1.00        13\n",
      "\n",
      "    accuracy                           1.00        30\n",
      "   macro avg       1.00      1.00      1.00        30\n",
      "weighted avg       1.00      1.00      1.00        30\n",
      "\n"
     ]
    }
   ],
   "source": [
    "# Importing required libraries\n",
    "from sklearn import datasets\n",
    "from sklearn.model_selection import train_test_split\n",
    "from sklearn.svm import SVC\n",
    "from sklearn.metrics import classification_report, accuracy_score\n",
    "\n",
    "# Load Iris dataset\n",
    "iris = datasets.load_iris()\n",
    "X = iris.data  # Features\n",
    "y = iris.target  # Target labels\n",
    "\n",
    "# For binary classification, select only two classes\n",
    "X = X[y != 2]\n",
    "y = y[y != 2]\n",
    "\n",
    "# Split the dataset into training and testing sets\n",
    "X_train, X_test, y_train, y_test = train_test_split(X, y, test_size=0.3, random_state=42)\n",
    "\n",
    "# Create and train an SVM model with RBF kernel\n",
    "svm_model = SVC(kernel='rbf', C=1.0, gamma='scale')\n",
    "svm_model.fit(X_train, y_train)\n",
    "\n",
    "# Make predictions\n",
    "y_pred = svm_model.predict(X_test)\n",
    "\n",
    "# Evaluate the model\n",
    "print(\"Accuracy:\", accuracy_score(y_test, y_pred))\n",
    "print(\"\\nClassification Report:\\n\", classification_report(y_test, y_pred))\n"
   ]
  }
 ],
 "metadata": {
  "colab": {
   "authorship_tag": "ABX9TyOoljumkWhyiMpRqyVYzzpi",
   "provenance": []
  },
  "kernelspec": {
   "display_name": "Python 3 (ipykernel)",
   "language": "python",
   "name": "python3"
  },
  "language_info": {
   "codemirror_mode": {
    "name": "ipython",
    "version": 3
   },
   "file_extension": ".py",
   "mimetype": "text/x-python",
   "name": "python",
   "nbconvert_exporter": "python",
   "pygments_lexer": "ipython3",
   "version": "3.12.2"
  }
 },
 "nbformat": 4,
 "nbformat_minor": 4
}
