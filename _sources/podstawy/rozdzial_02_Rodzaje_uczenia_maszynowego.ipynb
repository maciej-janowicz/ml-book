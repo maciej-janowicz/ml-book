{
 "cells": [
  {
   "cell_type": "markdown",
   "metadata": {
    "id": "y_LgKdce4XOv"
   },
   "source": [
    "# Rodzaje uczenia maszynowego\n"
   ]
  },
  {
   "cell_type": "markdown",
   "metadata": {
    "id": "WSoe-BlI5eXB"
   },
   "source": [
    "### Uczenie nadzorowane\n",
    "- Algorytm uczy się na podstawie danych opatrzonych etykietami; wszystkie dane wejściowe powiązane są z pewnym oczekiwanym wynikiem (etykietą)\n",
    "- Uczenie tego typu stosowane jest do rozwiązania problemów klasyfikacji i regresji, takich, jak rozpoznawanie mowy, tekstu, obrazu oraz prognozowanie wartości funkcji.\n",
    "- Dane treningowe zawierają pary danych wejściowych i wyjściowych, co pozwala systemowi uczącemu się rozpoznawać wzorce i przewidywać wyniki.\n",
    "- Uczenie maszynowe nadzorowane stosowane jest także w zarządzaniu ryzykiem oraz wykrywaniu nadużyć i oszustw."
   ]
  },
  {
   "cell_type": "markdown",
   "metadata": {
    "id": "1m8T_Mx75jDw"
   },
   "source": [
    "### Uczenie nienadzorowane\n",
    "\n",
    "- Uczenie nienadzorowane nie wymaga etykiet. Algorytm sam powinien wykryć wzorce, relacje i struktury w danych.\n",
    "- Główne metody to analiza składowych głównych oraz analiza skupień.\n",
    "- Stosowane są m.in. w analizie koszyków zakupowych, wykrywaniu anomalii i rozpoznawaniu obiektów podobnych,\n",
    "- Ponieważ algorytmy tego rodzaju działają bez wcześniej ustalonych kluczy odpowiedzi; w ten sposób przypominają nieco działanie mózgu ludzkiego.\n",
    "- Celem uczenia nienadzorowanego jest identyfikcacja *nieznanych wcześniej* zależności między danymi."
   ]
  },
  {
   "cell_type": "markdown",
   "metadata": {
    "id": "5jmpfmzj7ViF"
   },
   "source": [
    "### Uczenie częściowo nadzorowane (semi-supervised learning)\n",
    "- Przypadek ten łączy elementy uczenia nadzorowanego i nienadzorowanego; algorytm otrzymuje dane wejściowe częściowo zawierające etykiety, a częściowo nie.\n",
    "- Na ogół jest tak, że tylko niewielka część danych jest etykietowana, a większość nie.\n",
    "- Algorytm powinien sam tworzyć ogólne wzorce na podstawie dostępnych danych\n",
    "- Często stosowane jest wtedy, gdy dodanie etykiet od wszystkich danych jest niemożliwe lucn zbyt czasochłonne."
   ]
  },
  {
   "cell_type": "markdown",
   "metadata": {
    "id": "8JRySGsc8dk5"
   },
   "source": [
    "### Uczenie samonadzorowane\n",
    "- Podejście, w którym dane nie są etykietowane (podobnie, jak w uczeniu nienadzorowanym).\n",
    "- Algorytm ma za zadanie wygenerować własne etykiety na podstawie struktur i wzorców, znalezionych w danych.\n",
    "- Stosowane zwłaszcza w przetwarzaniu języka naturalnego i rozpoznawaniu obrazów."
   ]
  },
  {
   "cell_type": "markdown",
   "metadata": {
    "id": "GtP1fhl0_9_t"
   },
   "source": [
    "### Uczenie ze wzmocnieniem\n",
    "- Algorytm uczy się poprzez interakcje ze środowiskiem i otrzymywanie kar i nagród za swoje działania (wykonywane czynności)\n",
    "- Wykorzystywane jest do nauki strategii i podejmowaniu decyzji w dynamicznych środowiskach.\n",
    "- Zastosowania: nawigacja, robotyka, gry\n",
    "- Algorytm uczy się poprzez próby i błędy\n",
    "- Algorytm nie wymaga etykietowanych danych, lecz opiera się na regułach i konsekwencjach działań.\n"
   ]
  },
  {
   "cell_type": "markdown",
   "metadata": {
    "id": "Tc9K54bBBFJl"
   },
   "source": [
    "### Główne zadania, rozwiązywane przez algorytmy uczenia maszynowego:\n",
    "- Klasyfikacja\n",
    "- Regresja\n",
    "\n",
    "Wszystkie rodzaje uczenia maszynowego obejmują jako podproblemy rozmaite zadania optymalizacji. Uczenie ze wzmocnieniem jest wyróżnione w tym sensie, że optymalizacja jest w nim jednym z punktów definicji."
   ]
  },
  {
   "cell_type": "code",
   "execution_count": null,
   "metadata": {
    "id": "wTFlPiXW5crn"
   },
   "outputs": [],
   "source": []
  }
 ],
 "metadata": {
  "colab": {
   "authorship_tag": "ABX9TyMC23ycL2Tq7orlquoD5DvW",
   "provenance": []
  },
  "kernelspec": {
   "display_name": "Python 3 (ipykernel)",
   "language": "python",
   "name": "python3"
  },
  "language_info": {
   "codemirror_mode": {
    "name": "ipython",
    "version": 3
   },
   "file_extension": ".py",
   "mimetype": "text/x-python",
   "name": "python",
   "nbconvert_exporter": "python",
   "pygments_lexer": "ipython3",
   "version": "3.12.2"
  }
 },
 "nbformat": 4,
 "nbformat_minor": 4
}
