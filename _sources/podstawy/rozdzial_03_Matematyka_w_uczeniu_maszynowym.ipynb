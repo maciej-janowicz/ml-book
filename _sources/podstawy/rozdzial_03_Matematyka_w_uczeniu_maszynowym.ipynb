{
 "cells": [
  {
   "cell_type": "markdown",
   "metadata": {},
   "source": [
    "# Matematyka w uczeniu maszynowym"
   ]
  },
  {
   "cell_type": "markdown",
   "metadata": {
    "id": "TN2whs0-HT-e"
   },
   "source": [
    "## Dziedziny matematyki\n",
    "w których orientacja jest\n",
    "teoretycznie niezbędna\n",
    "do skutecznego korzystania\n",
    "z metod uczenia maszynowego"
   ]
  },
  {
   "cell_type": "markdown",
   "metadata": {
    "id": "OK0tpek8HQer"
   },
   "source": [
    "Algebra liniowa:\n",
    "\n",
    "- Operacje na wektorach i macierzach\n",
    "- Rozkłady macierzowe (np. SVD, LU, QR)\n",
    "- Przestrzenie wektorowe\n",
    "- Wartości i wektory własne\n",
    "\n"
   ]
  },
  {
   "cell_type": "markdown",
   "metadata": {
    "id": "1yCMJkCUH1Pb"
   },
   "source": [
    "### Analiza matematyczna:\n",
    "\n",
    "- Pochodne i całki\n",
    "- Ekstrema funkckcji\n",
    "- Elementy analizy wektorów\n"
   ]
  },
  {
   "cell_type": "markdown",
   "metadata": {
    "id": "WR7v_ZpuIA1O"
   },
   "source": [
    "### Rachunek prawdopodobieństwa:\n",
    "\n",
    "- Podstawowe pojęcia probabilistyczne\n",
    "- Rozkłady prawdopodobieństwa (np. normalny, binominalny)\n",
    "- Wzór Bayesa\n",
    "- Oczekiwana wartość i wariancja\n"
   ]
  },
  {
   "cell_type": "markdown",
   "metadata": {
    "id": "GOr-ThD2JL89"
   },
   "source": [
    "Statystyka:\n",
    "\n",
    "- Podstawowe pojęcia statystyczne (średnia, mediana, odchylenie standardowe)\n",
    "- Estymacja parametrów\n",
    "- Testy hipotez\n",
    "- Regresja liniowa i logistyczna\n"
   ]
  },
  {
   "cell_type": "markdown",
   "metadata": {
    "id": "eIoBSn4bKUqi"
   },
   "source": [
    "### Optymalizacja:\n",
    "\n",
    "- Metody gradientowe (np. gradient prosty, gradient sprzężony)\n",
    "- Metody optymalizacji bezgradientowej (np. algorytm genetyczny, symulowane wyżarzanie)\n",
    "- Optymalizacja warunkowa\n"
   ]
  },
  {
   "cell_type": "markdown",
   "metadata": {
    "id": "lT9RFTYrKvdd"
   },
   "source": [
    "Teoria informacji:\n",
    "\n",
    "- Entropia\n",
    "- Rozbieżność Kullbacka-Leiblera\n",
    "- Informacja wzajemna\n"
   ]
  },
  {
   "cell_type": "markdown",
   "metadata": {
    "id": "9N2bY1QnK8t_"
   },
   "source": [
    "### Geometria i teoria grafów\n",
    "\n",
    "- Podstawowe pojęcia geometrii (odległości, kąty)\n",
    "- Przestrzenie metryczne\n",
    "- Teoria grafów:\n",
    "\n",
    "- Podstawowe pojęcia teorii grafów (wierzchołki, krawędzie, ścieżki)\n",
    "- Algorytmy na grafach\n"
   ]
  },
  {
   "cell_type": "markdown",
   "metadata": {
    "id": "PkzssfVqNPd5"
   },
   "source": [
    "### Algorytmy numeryczne i teoria złożoności obliczeniowej\n",
    "\n",
    "- Metody numeryczne rozwiązywania układów równań\n",
    "- Metody numeryczne całkowania i różniczkowania\n",
    "- Złożoność obliczeniowa algorytmów\n",
    "- Optymalizacja algorytmów"
   ]
  },
  {
   "cell_type": "code",
   "execution_count": null,
   "metadata": {
    "id": "9li_hoxWNppU"
   },
   "outputs": [],
   "source": []
  }
 ],
 "metadata": {
  "colab": {
   "authorship_tag": "ABX9TyN/ZrSc7zjaHetX3hCkUYte",
   "provenance": []
  },
  "kernelspec": {
   "display_name": "Python 3 (ipykernel)",
   "language": "python",
   "name": "python3"
  },
  "language_info": {
   "codemirror_mode": {
    "name": "ipython",
    "version": 3
   },
   "file_extension": ".py",
   "mimetype": "text/x-python",
   "name": "python",
   "nbconvert_exporter": "python",
   "pygments_lexer": "ipython3",
   "version": "3.12.2"
  }
 },
 "nbformat": 4,
 "nbformat_minor": 4
}
